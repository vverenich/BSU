{
 "cells": [
  {
   "cell_type": "code",
   "execution_count": 1,
   "id": "cf7cbebc-2d22-47c3-8944-23449b9d7fdc",
   "metadata": {
    "tags": []
   },
   "outputs": [],
   "source": [
    "from sklearn import preprocessing\n",
    "import numpy as np\n",
    "import pandas as pd\n",
    "import math\n",
    "\n",
    "from sklearn.datasets import load_breast_cancer\n",
    "from sklearn.model_selection import train_test_split"
   ]
  },
  {
   "cell_type": "code",
   "execution_count": 2,
   "id": "3b2d8913-d61c-4a31-9cdd-0758d11bb8fd",
   "metadata": {
    "tags": []
   },
   "outputs": [],
   "source": [
    "df = load_breast_cancer()"
   ]
  },
  {
   "cell_type": "code",
   "execution_count": 3,
   "id": "3b3954b2-7d70-46e8-b136-bcd32487eb91",
   "metadata": {
    "tags": []
   },
   "outputs": [],
   "source": [
    "y = df.target\n",
    "X = df.data"
   ]
  },
  {
   "cell_type": "code",
   "execution_count": 4,
   "id": "8d61abb4-8b50-48e9-9b9c-d8e0b87350c5",
   "metadata": {
    "tags": []
   },
   "outputs": [
    {
     "data": {
      "text/html": [
       "<div>\n",
       "<style scoped>\n",
       "    .dataframe tbody tr th:only-of-type {\n",
       "        vertical-align: middle;\n",
       "    }\n",
       "\n",
       "    .dataframe tbody tr th {\n",
       "        vertical-align: top;\n",
       "    }\n",
       "\n",
       "    .dataframe thead th {\n",
       "        text-align: right;\n",
       "    }\n",
       "</style>\n",
       "<table border=\"1\" class=\"dataframe\">\n",
       "  <thead>\n",
       "    <tr style=\"text-align: right;\">\n",
       "      <th></th>\n",
       "      <th>0</th>\n",
       "      <th>1</th>\n",
       "      <th>2</th>\n",
       "      <th>3</th>\n",
       "      <th>4</th>\n",
       "      <th>5</th>\n",
       "      <th>6</th>\n",
       "      <th>7</th>\n",
       "      <th>8</th>\n",
       "      <th>9</th>\n",
       "      <th>...</th>\n",
       "      <th>20</th>\n",
       "      <th>21</th>\n",
       "      <th>22</th>\n",
       "      <th>23</th>\n",
       "      <th>24</th>\n",
       "      <th>25</th>\n",
       "      <th>26</th>\n",
       "      <th>27</th>\n",
       "      <th>28</th>\n",
       "      <th>29</th>\n",
       "    </tr>\n",
       "  </thead>\n",
       "  <tbody>\n",
       "    <tr>\n",
       "      <th>0</th>\n",
       "      <td>17.99</td>\n",
       "      <td>10.38</td>\n",
       "      <td>122.80</td>\n",
       "      <td>1001.0</td>\n",
       "      <td>0.11840</td>\n",
       "      <td>0.27760</td>\n",
       "      <td>0.30010</td>\n",
       "      <td>0.14710</td>\n",
       "      <td>0.2419</td>\n",
       "      <td>0.07871</td>\n",
       "      <td>...</td>\n",
       "      <td>25.380</td>\n",
       "      <td>17.33</td>\n",
       "      <td>184.60</td>\n",
       "      <td>2019.0</td>\n",
       "      <td>0.16220</td>\n",
       "      <td>0.66560</td>\n",
       "      <td>0.7119</td>\n",
       "      <td>0.2654</td>\n",
       "      <td>0.4601</td>\n",
       "      <td>0.11890</td>\n",
       "    </tr>\n",
       "    <tr>\n",
       "      <th>1</th>\n",
       "      <td>20.57</td>\n",
       "      <td>17.77</td>\n",
       "      <td>132.90</td>\n",
       "      <td>1326.0</td>\n",
       "      <td>0.08474</td>\n",
       "      <td>0.07864</td>\n",
       "      <td>0.08690</td>\n",
       "      <td>0.07017</td>\n",
       "      <td>0.1812</td>\n",
       "      <td>0.05667</td>\n",
       "      <td>...</td>\n",
       "      <td>24.990</td>\n",
       "      <td>23.41</td>\n",
       "      <td>158.80</td>\n",
       "      <td>1956.0</td>\n",
       "      <td>0.12380</td>\n",
       "      <td>0.18660</td>\n",
       "      <td>0.2416</td>\n",
       "      <td>0.1860</td>\n",
       "      <td>0.2750</td>\n",
       "      <td>0.08902</td>\n",
       "    </tr>\n",
       "    <tr>\n",
       "      <th>2</th>\n",
       "      <td>19.69</td>\n",
       "      <td>21.25</td>\n",
       "      <td>130.00</td>\n",
       "      <td>1203.0</td>\n",
       "      <td>0.10960</td>\n",
       "      <td>0.15990</td>\n",
       "      <td>0.19740</td>\n",
       "      <td>0.12790</td>\n",
       "      <td>0.2069</td>\n",
       "      <td>0.05999</td>\n",
       "      <td>...</td>\n",
       "      <td>23.570</td>\n",
       "      <td>25.53</td>\n",
       "      <td>152.50</td>\n",
       "      <td>1709.0</td>\n",
       "      <td>0.14440</td>\n",
       "      <td>0.42450</td>\n",
       "      <td>0.4504</td>\n",
       "      <td>0.2430</td>\n",
       "      <td>0.3613</td>\n",
       "      <td>0.08758</td>\n",
       "    </tr>\n",
       "    <tr>\n",
       "      <th>3</th>\n",
       "      <td>11.42</td>\n",
       "      <td>20.38</td>\n",
       "      <td>77.58</td>\n",
       "      <td>386.1</td>\n",
       "      <td>0.14250</td>\n",
       "      <td>0.28390</td>\n",
       "      <td>0.24140</td>\n",
       "      <td>0.10520</td>\n",
       "      <td>0.2597</td>\n",
       "      <td>0.09744</td>\n",
       "      <td>...</td>\n",
       "      <td>14.910</td>\n",
       "      <td>26.50</td>\n",
       "      <td>98.87</td>\n",
       "      <td>567.7</td>\n",
       "      <td>0.20980</td>\n",
       "      <td>0.86630</td>\n",
       "      <td>0.6869</td>\n",
       "      <td>0.2575</td>\n",
       "      <td>0.6638</td>\n",
       "      <td>0.17300</td>\n",
       "    </tr>\n",
       "    <tr>\n",
       "      <th>4</th>\n",
       "      <td>20.29</td>\n",
       "      <td>14.34</td>\n",
       "      <td>135.10</td>\n",
       "      <td>1297.0</td>\n",
       "      <td>0.10030</td>\n",
       "      <td>0.13280</td>\n",
       "      <td>0.19800</td>\n",
       "      <td>0.10430</td>\n",
       "      <td>0.1809</td>\n",
       "      <td>0.05883</td>\n",
       "      <td>...</td>\n",
       "      <td>22.540</td>\n",
       "      <td>16.67</td>\n",
       "      <td>152.20</td>\n",
       "      <td>1575.0</td>\n",
       "      <td>0.13740</td>\n",
       "      <td>0.20500</td>\n",
       "      <td>0.4000</td>\n",
       "      <td>0.1625</td>\n",
       "      <td>0.2364</td>\n",
       "      <td>0.07678</td>\n",
       "    </tr>\n",
       "    <tr>\n",
       "      <th>...</th>\n",
       "      <td>...</td>\n",
       "      <td>...</td>\n",
       "      <td>...</td>\n",
       "      <td>...</td>\n",
       "      <td>...</td>\n",
       "      <td>...</td>\n",
       "      <td>...</td>\n",
       "      <td>...</td>\n",
       "      <td>...</td>\n",
       "      <td>...</td>\n",
       "      <td>...</td>\n",
       "      <td>...</td>\n",
       "      <td>...</td>\n",
       "      <td>...</td>\n",
       "      <td>...</td>\n",
       "      <td>...</td>\n",
       "      <td>...</td>\n",
       "      <td>...</td>\n",
       "      <td>...</td>\n",
       "      <td>...</td>\n",
       "      <td>...</td>\n",
       "    </tr>\n",
       "    <tr>\n",
       "      <th>564</th>\n",
       "      <td>21.56</td>\n",
       "      <td>22.39</td>\n",
       "      <td>142.00</td>\n",
       "      <td>1479.0</td>\n",
       "      <td>0.11100</td>\n",
       "      <td>0.11590</td>\n",
       "      <td>0.24390</td>\n",
       "      <td>0.13890</td>\n",
       "      <td>0.1726</td>\n",
       "      <td>0.05623</td>\n",
       "      <td>...</td>\n",
       "      <td>25.450</td>\n",
       "      <td>26.40</td>\n",
       "      <td>166.10</td>\n",
       "      <td>2027.0</td>\n",
       "      <td>0.14100</td>\n",
       "      <td>0.21130</td>\n",
       "      <td>0.4107</td>\n",
       "      <td>0.2216</td>\n",
       "      <td>0.2060</td>\n",
       "      <td>0.07115</td>\n",
       "    </tr>\n",
       "    <tr>\n",
       "      <th>565</th>\n",
       "      <td>20.13</td>\n",
       "      <td>28.25</td>\n",
       "      <td>131.20</td>\n",
       "      <td>1261.0</td>\n",
       "      <td>0.09780</td>\n",
       "      <td>0.10340</td>\n",
       "      <td>0.14400</td>\n",
       "      <td>0.09791</td>\n",
       "      <td>0.1752</td>\n",
       "      <td>0.05533</td>\n",
       "      <td>...</td>\n",
       "      <td>23.690</td>\n",
       "      <td>38.25</td>\n",
       "      <td>155.00</td>\n",
       "      <td>1731.0</td>\n",
       "      <td>0.11660</td>\n",
       "      <td>0.19220</td>\n",
       "      <td>0.3215</td>\n",
       "      <td>0.1628</td>\n",
       "      <td>0.2572</td>\n",
       "      <td>0.06637</td>\n",
       "    </tr>\n",
       "    <tr>\n",
       "      <th>566</th>\n",
       "      <td>16.60</td>\n",
       "      <td>28.08</td>\n",
       "      <td>108.30</td>\n",
       "      <td>858.1</td>\n",
       "      <td>0.08455</td>\n",
       "      <td>0.10230</td>\n",
       "      <td>0.09251</td>\n",
       "      <td>0.05302</td>\n",
       "      <td>0.1590</td>\n",
       "      <td>0.05648</td>\n",
       "      <td>...</td>\n",
       "      <td>18.980</td>\n",
       "      <td>34.12</td>\n",
       "      <td>126.70</td>\n",
       "      <td>1124.0</td>\n",
       "      <td>0.11390</td>\n",
       "      <td>0.30940</td>\n",
       "      <td>0.3403</td>\n",
       "      <td>0.1418</td>\n",
       "      <td>0.2218</td>\n",
       "      <td>0.07820</td>\n",
       "    </tr>\n",
       "    <tr>\n",
       "      <th>567</th>\n",
       "      <td>20.60</td>\n",
       "      <td>29.33</td>\n",
       "      <td>140.10</td>\n",
       "      <td>1265.0</td>\n",
       "      <td>0.11780</td>\n",
       "      <td>0.27700</td>\n",
       "      <td>0.35140</td>\n",
       "      <td>0.15200</td>\n",
       "      <td>0.2397</td>\n",
       "      <td>0.07016</td>\n",
       "      <td>...</td>\n",
       "      <td>25.740</td>\n",
       "      <td>39.42</td>\n",
       "      <td>184.60</td>\n",
       "      <td>1821.0</td>\n",
       "      <td>0.16500</td>\n",
       "      <td>0.86810</td>\n",
       "      <td>0.9387</td>\n",
       "      <td>0.2650</td>\n",
       "      <td>0.4087</td>\n",
       "      <td>0.12400</td>\n",
       "    </tr>\n",
       "    <tr>\n",
       "      <th>568</th>\n",
       "      <td>7.76</td>\n",
       "      <td>24.54</td>\n",
       "      <td>47.92</td>\n",
       "      <td>181.0</td>\n",
       "      <td>0.05263</td>\n",
       "      <td>0.04362</td>\n",
       "      <td>0.00000</td>\n",
       "      <td>0.00000</td>\n",
       "      <td>0.1587</td>\n",
       "      <td>0.05884</td>\n",
       "      <td>...</td>\n",
       "      <td>9.456</td>\n",
       "      <td>30.37</td>\n",
       "      <td>59.16</td>\n",
       "      <td>268.6</td>\n",
       "      <td>0.08996</td>\n",
       "      <td>0.06444</td>\n",
       "      <td>0.0000</td>\n",
       "      <td>0.0000</td>\n",
       "      <td>0.2871</td>\n",
       "      <td>0.07039</td>\n",
       "    </tr>\n",
       "  </tbody>\n",
       "</table>\n",
       "<p>569 rows × 30 columns</p>\n",
       "</div>"
      ],
      "text/plain": [
       "        0      1       2       3        4        5        6        7       8   \\\n",
       "0    17.99  10.38  122.80  1001.0  0.11840  0.27760  0.30010  0.14710  0.2419   \n",
       "1    20.57  17.77  132.90  1326.0  0.08474  0.07864  0.08690  0.07017  0.1812   \n",
       "2    19.69  21.25  130.00  1203.0  0.10960  0.15990  0.19740  0.12790  0.2069   \n",
       "3    11.42  20.38   77.58   386.1  0.14250  0.28390  0.24140  0.10520  0.2597   \n",
       "4    20.29  14.34  135.10  1297.0  0.10030  0.13280  0.19800  0.10430  0.1809   \n",
       "..     ...    ...     ...     ...      ...      ...      ...      ...     ...   \n",
       "564  21.56  22.39  142.00  1479.0  0.11100  0.11590  0.24390  0.13890  0.1726   \n",
       "565  20.13  28.25  131.20  1261.0  0.09780  0.10340  0.14400  0.09791  0.1752   \n",
       "566  16.60  28.08  108.30   858.1  0.08455  0.10230  0.09251  0.05302  0.1590   \n",
       "567  20.60  29.33  140.10  1265.0  0.11780  0.27700  0.35140  0.15200  0.2397   \n",
       "568   7.76  24.54   47.92   181.0  0.05263  0.04362  0.00000  0.00000  0.1587   \n",
       "\n",
       "          9   ...      20     21      22      23       24       25      26  \\\n",
       "0    0.07871  ...  25.380  17.33  184.60  2019.0  0.16220  0.66560  0.7119   \n",
       "1    0.05667  ...  24.990  23.41  158.80  1956.0  0.12380  0.18660  0.2416   \n",
       "2    0.05999  ...  23.570  25.53  152.50  1709.0  0.14440  0.42450  0.4504   \n",
       "3    0.09744  ...  14.910  26.50   98.87   567.7  0.20980  0.86630  0.6869   \n",
       "4    0.05883  ...  22.540  16.67  152.20  1575.0  0.13740  0.20500  0.4000   \n",
       "..       ...  ...     ...    ...     ...     ...      ...      ...     ...   \n",
       "564  0.05623  ...  25.450  26.40  166.10  2027.0  0.14100  0.21130  0.4107   \n",
       "565  0.05533  ...  23.690  38.25  155.00  1731.0  0.11660  0.19220  0.3215   \n",
       "566  0.05648  ...  18.980  34.12  126.70  1124.0  0.11390  0.30940  0.3403   \n",
       "567  0.07016  ...  25.740  39.42  184.60  1821.0  0.16500  0.86810  0.9387   \n",
       "568  0.05884  ...   9.456  30.37   59.16   268.6  0.08996  0.06444  0.0000   \n",
       "\n",
       "         27      28       29  \n",
       "0    0.2654  0.4601  0.11890  \n",
       "1    0.1860  0.2750  0.08902  \n",
       "2    0.2430  0.3613  0.08758  \n",
       "3    0.2575  0.6638  0.17300  \n",
       "4    0.1625  0.2364  0.07678  \n",
       "..      ...     ...      ...  \n",
       "564  0.2216  0.2060  0.07115  \n",
       "565  0.1628  0.2572  0.06637  \n",
       "566  0.1418  0.2218  0.07820  \n",
       "567  0.2650  0.4087  0.12400  \n",
       "568  0.0000  0.2871  0.07039  \n",
       "\n",
       "[569 rows x 30 columns]"
      ]
     },
     "execution_count": 4,
     "metadata": {},
     "output_type": "execute_result"
    }
   ],
   "source": [
    "pd.DataFrame(X)"
   ]
  },
  {
   "cell_type": "code",
   "execution_count": 5,
   "id": "1e7c24a0-ba2e-435a-a710-86ece95f8d6b",
   "metadata": {
    "tags": []
   },
   "outputs": [
    {
     "data": {
      "text/plain": [
       "array([0, 0, 0, 0, 0, 0, 0, 0, 0, 0, 0, 0, 0, 0, 0, 0, 0, 0, 0, 1, 1, 1,\n",
       "       0, 0, 0, 0, 0, 0, 0, 0, 0, 0, 0, 0, 0, 0, 0, 1, 0, 0, 0, 0, 0, 0,\n",
       "       0, 0, 1, 0, 1, 1, 1, 1, 1, 0, 0, 1, 0, 0, 1, 1, 1, 1, 0, 1, 0, 0,\n",
       "       1, 1, 1, 1, 0, 1, 0, 0, 1, 0, 1, 0, 0, 1, 1, 1, 0, 0, 1, 0, 0, 0,\n",
       "       1, 1, 1, 0, 1, 1, 0, 0, 1, 1, 1, 0, 0, 1, 1, 1, 1, 0, 1, 1, 0, 1,\n",
       "       1, 1, 1, 1, 1, 1, 1, 0, 0, 0, 1, 0, 0, 1, 1, 1, 0, 0, 1, 0, 1, 0,\n",
       "       0, 1, 0, 0, 1, 1, 0, 1, 1, 0, 1, 1, 1, 1, 0, 1, 1, 1, 1, 1, 1, 1,\n",
       "       1, 1, 0, 1, 1, 1, 1, 0, 0, 1, 0, 1, 1, 0, 0, 1, 1, 0, 0, 1, 1, 1,\n",
       "       1, 0, 1, 1, 0, 0, 0, 1, 0, 1, 0, 1, 1, 1, 0, 1, 1, 0, 0, 1, 0, 0,\n",
       "       0, 0, 1, 0, 0, 0, 1, 0, 1, 0, 1, 1, 0, 1, 0, 0, 0, 0, 1, 1, 0, 0,\n",
       "       1, 1, 1, 0, 1, 1, 1, 1, 1, 0, 0, 1, 1, 0, 1, 1, 0, 0, 1, 0, 1, 1,\n",
       "       1, 1, 0, 1, 1, 1, 1, 1, 0, 1, 0, 0, 0, 0, 0, 0, 0, 0, 0, 0, 0, 0,\n",
       "       0, 0, 1, 1, 1, 1, 1, 1, 0, 1, 0, 1, 1, 0, 1, 1, 0, 1, 0, 0, 1, 1,\n",
       "       1, 1, 1, 1, 1, 1, 1, 1, 1, 1, 1, 0, 1, 1, 0, 1, 0, 1, 1, 1, 1, 1,\n",
       "       1, 1, 1, 1, 1, 1, 1, 1, 1, 0, 1, 1, 1, 0, 1, 0, 1, 1, 1, 1, 0, 0,\n",
       "       0, 1, 1, 1, 1, 0, 1, 0, 1, 0, 1, 1, 1, 0, 1, 1, 1, 1, 1, 1, 1, 0,\n",
       "       0, 0, 1, 1, 1, 1, 1, 1, 1, 1, 1, 1, 1, 0, 0, 1, 0, 0, 0, 1, 0, 0,\n",
       "       1, 1, 1, 1, 1, 0, 1, 1, 1, 1, 1, 0, 1, 1, 1, 0, 1, 1, 0, 0, 1, 1,\n",
       "       1, 1, 1, 1, 0, 1, 1, 1, 1, 1, 1, 1, 0, 1, 1, 1, 1, 1, 0, 1, 1, 0,\n",
       "       1, 1, 1, 1, 1, 1, 1, 1, 1, 1, 1, 1, 0, 1, 0, 0, 1, 0, 1, 1, 1, 1,\n",
       "       1, 0, 1, 1, 0, 1, 0, 1, 1, 0, 1, 0, 1, 1, 1, 1, 1, 1, 1, 1, 0, 0,\n",
       "       1, 1, 1, 1, 1, 1, 0, 1, 1, 1, 1, 1, 1, 1, 1, 1, 1, 0, 1, 1, 1, 1,\n",
       "       1, 1, 1, 0, 1, 0, 1, 1, 0, 1, 1, 1, 1, 1, 0, 0, 1, 0, 1, 0, 1, 1,\n",
       "       1, 1, 1, 0, 1, 1, 0, 1, 0, 1, 0, 0, 1, 1, 1, 0, 1, 1, 1, 1, 1, 1,\n",
       "       1, 1, 1, 1, 1, 0, 1, 0, 0, 1, 1, 1, 1, 1, 1, 1, 1, 1, 1, 1, 1, 1,\n",
       "       1, 1, 1, 1, 1, 1, 1, 1, 1, 1, 1, 1, 0, 0, 0, 0, 0, 0, 1])"
      ]
     },
     "execution_count": 5,
     "metadata": {},
     "output_type": "execute_result"
    }
   ],
   "source": [
    "y"
   ]
  },
  {
   "cell_type": "code",
   "execution_count": 6,
   "id": "7e8e097c-6539-4b56-aef7-33ab61f6cfe9",
   "metadata": {
    "tags": []
   },
   "outputs": [
    {
     "data": {
      "text/plain": [
       "(569, 30)"
      ]
     },
     "execution_count": 6,
     "metadata": {},
     "output_type": "execute_result"
    }
   ],
   "source": [
    "X.shape"
   ]
  },
  {
   "cell_type": "code",
   "execution_count": 7,
   "id": "5a990f3a-ed64-4cc3-becc-49dfe314a467",
   "metadata": {
    "tags": []
   },
   "outputs": [
    {
     "data": {
      "text/plain": [
       "(569,)"
      ]
     },
     "execution_count": 7,
     "metadata": {},
     "output_type": "execute_result"
    }
   ],
   "source": [
    "y.shape"
   ]
  },
  {
   "cell_type": "code",
   "execution_count": 8,
   "id": "dfb520ef-4404-489f-9282-0b5e05887607",
   "metadata": {
    "tags": []
   },
   "outputs": [
    {
     "data": {
      "text/plain": [
       "(569, 1)"
      ]
     },
     "execution_count": 8,
     "metadata": {},
     "output_type": "execute_result"
    }
   ],
   "source": [
    "y[:, np.newaxis].shape"
   ]
  },
  {
   "cell_type": "code",
   "execution_count": 9,
   "id": "d52190f4-c0a4-46b7-94ec-896905f7f263",
   "metadata": {
    "tags": []
   },
   "outputs": [
    {
     "data": {
      "text/plain": [
       "(4254.0, 0.0)"
      ]
     },
     "execution_count": 9,
     "metadata": {},
     "output_type": "execute_result"
    }
   ],
   "source": [
    "X.max(), X.min()"
   ]
  },
  {
   "cell_type": "code",
   "execution_count": 10,
   "id": "f0c6181f-9ad6-4ed1-bb76-ce62d36d32cd",
   "metadata": {
    "tags": []
   },
   "outputs": [],
   "source": [
    "scaler = preprocessing.StandardScaler()\n",
    "X = scaler.fit_transform(X)"
   ]
  },
  {
   "cell_type": "code",
   "execution_count": 11,
   "id": "f699cae6-1973-49d1-9d41-b85869ffc70a",
   "metadata": {
    "tags": []
   },
   "outputs": [
    {
     "data": {
      "text/plain": [
       "(-3.1120847879199744, 12.072680399588076)"
      ]
     },
     "execution_count": 11,
     "metadata": {},
     "output_type": "execute_result"
    }
   ],
   "source": [
    "n = 30\n",
    "X.min(), X.max()"
   ]
  },
  {
   "cell_type": "code",
   "execution_count": 12,
   "id": "6275d9f5-b4b7-4d28-a65f-da60870cdfa4",
   "metadata": {
    "tags": []
   },
   "outputs": [],
   "source": [
    "X_train, X_test, y_train, y_test = train_test_split(X, y, shuffle = True)"
   ]
  },
  {
   "cell_type": "code",
   "execution_count": 13,
   "id": "b01a42c9-81d2-43f0-98ef-da8d5cecbbf3",
   "metadata": {
    "tags": []
   },
   "outputs": [],
   "source": [
    "train = np.concatenate((X_train, y_train[:, np.newaxis]), axis=1)\n",
    "test = np.concatenate((X_test, y_test[:, np.newaxis]), axis=1)"
   ]
  },
  {
   "cell_type": "code",
   "execution_count": 14,
   "id": "39a698eb-7e64-42fe-abed-68a4f3c2ec97",
   "metadata": {
    "tags": []
   },
   "outputs": [],
   "source": [
    "arr0 = [val[:n] for val in train if val[n] == 0]\n",
    "arr1 = [val[:n] for val in train if val[n] == 1]\n",
    "\n",
    "#min_size = min(len(arr0), len(arr1))\n",
    "\n",
    "#arr0 = arr0[:min_size]\n",
    "#arr1 = arr1[:min_size]"
   ]
  },
  {
   "cell_type": "code",
   "execution_count": 15,
   "id": "8fbd4c83-e3d1-4aa7-b5a2-aa259b459b4f",
   "metadata": {
    "tags": []
   },
   "outputs": [
    {
     "data": {
      "text/plain": [
       "(151, 275)"
      ]
     },
     "execution_count": 15,
     "metadata": {},
     "output_type": "execute_result"
    }
   ],
   "source": [
    "len(arr0), len(arr1)"
   ]
  },
  {
   "cell_type": "code",
   "execution_count": 16,
   "id": "8f6b705d-7df3-4b8d-b88e-7f8f1f1de562",
   "metadata": {
    "tags": []
   },
   "outputs": [],
   "source": [
    "arr0_ = [val[:n] for val in test if val[n] == 0]\n",
    "arr1_ = [val[:n] for val in test if val[n] == 1]"
   ]
  },
  {
   "cell_type": "code",
   "execution_count": 17,
   "id": "869b550f-712c-4304-8377-57254c0c4636",
   "metadata": {
    "tags": []
   },
   "outputs": [
    {
     "data": {
      "text/plain": [
       "(61, 82)"
      ]
     },
     "execution_count": 17,
     "metadata": {},
     "output_type": "execute_result"
    }
   ],
   "source": [
    "len(arr0_), len(arr1_)"
   ]
  },
  {
   "cell_type": "markdown",
   "id": "be2c0859-97e4-41c0-a064-38311d9e5c37",
   "metadata": {},
   "source": [
    "$Problem 1$"
   ]
  },
  {
   "cell_type": "code",
   "execution_count": 18,
   "id": "7569d59b-d829-425f-92e2-dc68eb2ee06c",
   "metadata": {
    "tags": []
   },
   "outputs": [
    {
     "name": "stdout",
     "output_type": "stream",
     "text": [
      "Accuracy of algorithm: 97.9020979020979 %\n"
     ]
    }
   ],
   "source": [
    "def s1(x1, x2):\n",
    "    return sum(abs(x1 - x2))\n",
    "\n",
    "\n",
    "def f1(x, target, k):\n",
    "    arr = [arr0, arr1][target]\n",
    "    return sum(s1(x[:n], val) for val in arr) / len(arr)\n",
    "\n",
    "\n",
    "def f2(x, target, k):\n",
    "    arr = [s1(x[:n], val) for val in [arr0, arr1][target]]\n",
    "    arr.sort()\n",
    "    \n",
    "    return sum(val for val in arr[:k]) / k\n",
    "\n",
    "\n",
    "def f3(x, target, k):\n",
    "    return min(s1(x[:n], val) for val in [arr0, arr1][target])\n",
    "\n",
    "\n",
    "def find_class(x, func, k):\n",
    "    ans = [0, 0]\n",
    "    for target in (0, 1):\n",
    "        ans[target] = func(x, target, k)\n",
    "    return ans.index(min(ans))\n",
    "\n",
    "\n",
    "def accuracy(func, k = 5):\n",
    "    return 1 - sum(abs(find_class(test[i], func, k) - test[i, n]) for i in range(len(test))) / len(test)\n",
    "\n",
    "\n",
    "print(f'Accuracy of algorithm: {accuracy(f2) * 100} %')"
   ]
  },
  {
   "cell_type": "markdown",
   "id": "f7a1cc50-5cfa-4d8f-a157-d4272b7bcca2",
   "metadata": {},
   "source": [
    "$Problem 2$"
   ]
  },
  {
   "cell_type": "code",
   "execution_count": 19,
   "id": "321eb267-f909-4134-9d8e-75ef68a5b818",
   "metadata": {
    "tags": []
   },
   "outputs": [
    {
     "name": "stdout",
     "output_type": "stream",
     "text": [
      "Accuracy of algorithm: 97.9020979020979 %\n"
     ]
    }
   ],
   "source": [
    "def find_ds():\n",
    "    ds = [0, 0]\n",
    "    for target in (0, 1):\n",
    "        arr = [arr0, arr1][target]\n",
    "        d = 0\n",
    "        \n",
    "        for val1 in arr:\n",
    "            for val2 in arr:\n",
    "                d = max(d, s1(val1, val2))\n",
    "        \n",
    "        ds[target] = d\n",
    "    \n",
    "    return max(ds)\n",
    "\n",
    "\n",
    "def s2(x1, x2):\n",
    "    return max(0, 1 - (s1(x1, x2) / d))\n",
    "\n",
    "\n",
    "def f1(x, target, k):\n",
    "    arr = [arr0, arr1][target]\n",
    "    return sum(s2(x[:n], val) for val in arr) / len(arr)\n",
    "\n",
    "\n",
    "def f2(x, target, k):\n",
    "    arr = [s2(x[:n], val) for val in [arr0, arr1][target]]\n",
    "    arr.sort(reverse=True)\n",
    "    \n",
    "    return sum(val for val in arr[:k]) / k\n",
    "\n",
    "\n",
    "def f3(x, target, k):\n",
    "    return max(s2(x[:n], val) for val in [arr0, arr1][target])\n",
    "\n",
    "\n",
    "def find_class(x, func, k):\n",
    "    ans = [0, 0]\n",
    "    for target in (0, 1):\n",
    "        ans[target] = func(x, target, k)\n",
    "    return ans.index(max(ans))\n",
    "\n",
    "\n",
    "def accuracy(func, k = 5):\n",
    "    return 1 - sum(abs(find_class(test[i], func, k) - test[i, n]) for i in range(len(test))) / len(test)\n",
    "\n",
    "\n",
    "d = find_ds()\n",
    "print(f'Accuracy of algorithm: {accuracy(f2) * 100} %')"
   ]
  },
  {
   "cell_type": "markdown",
   "id": "d6edc25e-e3b5-4c28-bfbc-40a9cc82b2fd",
   "metadata": {},
   "source": [
    "$Problem 3$"
   ]
  },
  {
   "cell_type": "code",
   "execution_count": 20,
   "id": "fe60f9ab-3527-461c-ade5-62c15bb5b482",
   "metadata": {
    "tags": []
   },
   "outputs": [
    {
     "name": "stdout",
     "output_type": "stream",
     "text": [
      "Accuracy of algorithm: 85.52447552447552 %\n"
     ]
    }
   ],
   "source": [
    "def find_bij(): \n",
    "    bij0 = [sum(x[i] for x in arr0) / len(arr0) for i in range(n)]\n",
    "    bij1 = [sum(x[i] for x in arr1) / len(arr0) for i in range(n)]\n",
    "    return [bij0, bij1]\n",
    "\n",
    "bij = find_bij()\n",
    "\n",
    "def find_bj():\n",
    "    return [(bij[0][i] + bij[1][i]) / 2 for i in range(n)]\n",
    "\n",
    "bj = find_bj()\n",
    "\n",
    "def find_aij():\n",
    "    return [[abs(bij[i][j] - bj[j]) for j in range(n)] for i in (0,1)]\n",
    "\n",
    "aij = find_aij()\n",
    "\n",
    "def s3(x1, x2, target):\n",
    "    num = 0\n",
    "    for i in range(n):\n",
    "        if math.isclose(x1[i], x2[i]):\n",
    "            num += aij[target][i]\n",
    "        else:\n",
    "            num -= aij[target][i]\n",
    "    return num\n",
    "\n",
    "\n",
    "def f(x1, target):\n",
    "    return max(s3(x1, x2, target) for x2 in [arr0, arr1][target])\n",
    "\n",
    "\n",
    "def find_class(x1):\n",
    "    fs = [f(x1, 0), f(x1, 1)]\n",
    "    return fs.index(max(fs))\n",
    "\n",
    "\n",
    "def accuracy():\n",
    "    return 1 - sum(abs(find_class(test[i]) - test[i, n]) for i in range(len(test))) / len(test)                                                                           +0.1\n",
    "\n",
    "\n",
    "print(f'Accuracy of algorithm: {accuracy() * 100} %')\n"
   ]
  },
  {
   "cell_type": "markdown",
   "id": "bbea1ad0-d018-4cbe-9d07-18d0e729b524",
   "metadata": {},
   "source": [
    "$Problem 4$"
   ]
  },
  {
   "cell_type": "code",
   "execution_count": 21,
   "id": "84bab1cc-9044-4431-a340-84afec37018a",
   "metadata": {
    "tags": []
   },
   "outputs": [
    {
     "name": "stdout",
     "output_type": "stream",
     "text": [
      "Accuracy of algorithm: 82.72727272727273 %\n"
     ]
    }
   ],
   "source": [
    "def s4(x1, x2, target):\n",
    "    return 1 - s3(x1, x2, target)\n",
    "\n",
    "\n",
    "def f1(x, target):\n",
    "    arr = [arr0, arr1][target]\n",
    "    return sum(s4(x, x2, target) for x2 in arr) / len(arr)\n",
    "\n",
    "\n",
    "def f2(x, target, k = 7):\n",
    "    values = [s4(x, x2, target) for x2 in [arr0, arr1][target]]\n",
    "    values.sort()\n",
    "    return sum(val for val in values[: k]) / k\n",
    "\n",
    "\n",
    "def f3(x, target):\n",
    "    return min(s4(x, x2, target) for x2 in [arr0, arr1][target])\n",
    "\n",
    "\n",
    "def find_class(x, func):\n",
    "    fs = [func(x, 0), func(x, 1)]\n",
    "    return fs.index(min(fs))\n",
    "\n",
    "\n",
    "def accuracy(func):\n",
    "    return 1 - sum(abs(find_class(test[i], func) - test[i, n]) for i in range(len(test))) / len(test)                                                                           +0.1\n",
    "\n",
    "\n",
    "print(f'Accuracy of algorithm: {accuracy(f2) * 100} %')\n"
   ]
  },
  {
   "cell_type": "markdown",
   "id": "c59d28bb-edb2-4912-be63-b37fb87690b2",
   "metadata": {},
   "source": [
    "$Problem 5$"
   ]
  },
  {
   "cell_type": "code",
   "execution_count": 22,
   "id": "ffdadf81-4c61-4331-a1a9-7075dfbfae33",
   "metadata": {
    "tags": []
   },
   "outputs": [
    {
     "name": "stdout",
     "output_type": "stream",
     "text": [
      "Accuracy of algorithm: 82.72727272727273 %\n"
     ]
    }
   ],
   "source": [
    "def find_ds():\n",
    "    ds = [0, 0]\n",
    "    for target in (0, 1):\n",
    "        arr = [arr0, arr1][target]\n",
    "        d = 0\n",
    "        \n",
    "        for val1 in arr:\n",
    "            for val2 in arr:\n",
    "                d = max(d, s4(val1, val2, target))\n",
    "        \n",
    "        ds[target] = d\n",
    "    \n",
    "    return max(ds)\n",
    "\n",
    "\n",
    "def s5(x1, x2, target):\n",
    "    return max(0, 1 - (s4(x1, x2, target) / d))\n",
    "\n",
    "\n",
    "def f1(x, target, k):\n",
    "    return sum(s5(x[:n], val, target) for val in [arr0, arr1][target]) / len(arr)\n",
    "\n",
    "\n",
    "def f2(x, target, k):\n",
    "    arr = [s5(x[:n], val, target) for val in [arr0, arr1][target]]\n",
    "    arr.sort(reverse=True)\n",
    "    return sum(val for val in arr[:k]) / k\n",
    "\n",
    "\n",
    "def f3(x, target, k):\n",
    "    return max(s5(x[:n], val, target) for val in [arr0, arr1][target])\n",
    "\n",
    "\n",
    "def find_class(x, func, k):\n",
    "    ans = [0, 0]\n",
    "    for target in (0, 1):\n",
    "        ans[target] = func(x, target, k)\n",
    "    return ans.index(max(ans))\n",
    "\n",
    "\n",
    "def accuracy(func, k = 5):\n",
    "    return 1 - sum(abs(find_class(test[i], func, k) - test[i, n]) for i in range(len(test))) / len(test)                                                                           +0.1\n",
    "\n",
    "\n",
    "\n",
    "print(f'Accuracy of algorithm: {accuracy(f2) * 100} %')\n"
   ]
  },
  {
   "cell_type": "code",
   "execution_count": null,
   "id": "4e467172",
   "metadata": {},
   "outputs": [],
   "source": []
  },
  {
   "cell_type": "code",
   "execution_count": null,
   "id": "ff897d2d",
   "metadata": {},
   "outputs": [],
   "source": []
  }
 ],
 "metadata": {
  "kernelspec": {
   "display_name": "Python 3 (ipykernel)",
   "language": "python",
   "name": "python3"
  },
  "language_info": {
   "codemirror_mode": {
    "name": "ipython",
    "version": 3
   },
   "file_extension": ".py",
   "mimetype": "text/x-python",
   "name": "python",
   "nbconvert_exporter": "python",
   "pygments_lexer": "ipython3",
   "version": "3.10.11"
  }
 },
 "nbformat": 4,
 "nbformat_minor": 5
}
